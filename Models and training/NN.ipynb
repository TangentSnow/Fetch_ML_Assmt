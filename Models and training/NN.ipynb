{
 "cells": [
  {
   "cell_type": "code",
   "execution_count": 2,
   "metadata": {},
   "outputs": [],
   "source": [
    "import pandas as pd\n",
    "import numpy as np\n",
    "import torch\n",
    "import torch.nn as nn\n",
    "import torch.nn.functional as F\n",
    "import matplotlib.pyplot as plt"
   ]
  },
  {
   "cell_type": "code",
   "execution_count": 6,
   "metadata": {},
   "outputs": [
    {
     "name": "stdout",
     "output_type": "stream",
     "text": [
      "(365, 2)\n"
     ]
    },
    {
     "data": {
      "text/html": [
       "<div>\n",
       "<style scoped>\n",
       "    .dataframe tbody tr th:only-of-type {\n",
       "        vertical-align: middle;\n",
       "    }\n",
       "\n",
       "    .dataframe tbody tr th {\n",
       "        vertical-align: top;\n",
       "    }\n",
       "\n",
       "    .dataframe thead th {\n",
       "        text-align: right;\n",
       "    }\n",
       "</style>\n",
       "<table border=\"1\" class=\"dataframe\">\n",
       "  <thead>\n",
       "    <tr style=\"text-align: right;\">\n",
       "      <th></th>\n",
       "      <th># Date</th>\n",
       "      <th>Receipt_Count</th>\n",
       "    </tr>\n",
       "  </thead>\n",
       "  <tbody>\n",
       "    <tr>\n",
       "      <th>0</th>\n",
       "      <td>2021-01-01</td>\n",
       "      <td>7564766</td>\n",
       "    </tr>\n",
       "    <tr>\n",
       "      <th>1</th>\n",
       "      <td>2021-01-02</td>\n",
       "      <td>7455524</td>\n",
       "    </tr>\n",
       "    <tr>\n",
       "      <th>2</th>\n",
       "      <td>2021-01-03</td>\n",
       "      <td>7095414</td>\n",
       "    </tr>\n",
       "    <tr>\n",
       "      <th>3</th>\n",
       "      <td>2021-01-04</td>\n",
       "      <td>7666163</td>\n",
       "    </tr>\n",
       "    <tr>\n",
       "      <th>4</th>\n",
       "      <td>2021-01-05</td>\n",
       "      <td>7771289</td>\n",
       "    </tr>\n",
       "  </tbody>\n",
       "</table>\n",
       "</div>"
      ],
      "text/plain": [
       "       # Date  Receipt_Count\n",
       "0  2021-01-01        7564766\n",
       "1  2021-01-02        7455524\n",
       "2  2021-01-03        7095414\n",
       "3  2021-01-04        7666163\n",
       "4  2021-01-05        7771289"
      ]
     },
     "execution_count": 6,
     "metadata": {},
     "output_type": "execute_result"
    }
   ],
   "source": [
    "df = pd.read_csv(\"data_daily.csv\")\n",
    "print(df.shape)\n",
    "df.head()"
   ]
  },
  {
   "cell_type": "code",
   "execution_count": 79,
   "metadata": {},
   "outputs": [],
   "source": [
    "# Convert Date tp pandas datetime format to sum all the receipts for each month\n",
    "df['# Date'] = pd.to_datetime(df['# Date'])\n",
    "df['Month'] = df['# Date'].dt.month"
   ]
  },
  {
   "cell_type": "code",
   "execution_count": 80,
   "metadata": {},
   "outputs": [
    {
     "data": {
      "text/html": [
       "<div>\n",
       "<style scoped>\n",
       "    .dataframe tbody tr th:only-of-type {\n",
       "        vertical-align: middle;\n",
       "    }\n",
       "\n",
       "    .dataframe tbody tr th {\n",
       "        vertical-align: top;\n",
       "    }\n",
       "\n",
       "    .dataframe thead th {\n",
       "        text-align: right;\n",
       "    }\n",
       "</style>\n",
       "<table border=\"1\" class=\"dataframe\">\n",
       "  <thead>\n",
       "    <tr style=\"text-align: right;\">\n",
       "      <th></th>\n",
       "      <th>Month</th>\n",
       "      <th>Receipt_Count</th>\n",
       "    </tr>\n",
       "  </thead>\n",
       "  <tbody>\n",
       "    <tr>\n",
       "      <th>0</th>\n",
       "      <td>1</td>\n",
       "      <td>236736687</td>\n",
       "    </tr>\n",
       "    <tr>\n",
       "      <th>1</th>\n",
       "      <td>2</td>\n",
       "      <td>220033460</td>\n",
       "    </tr>\n",
       "    <tr>\n",
       "      <th>2</th>\n",
       "      <td>3</td>\n",
       "      <td>248608625</td>\n",
       "    </tr>\n",
       "    <tr>\n",
       "      <th>3</th>\n",
       "      <td>4</td>\n",
       "      <td>250644830</td>\n",
       "    </tr>\n",
       "    <tr>\n",
       "      <th>4</th>\n",
       "      <td>5</td>\n",
       "      <td>263151748</td>\n",
       "    </tr>\n",
       "    <tr>\n",
       "      <th>5</th>\n",
       "      <td>6</td>\n",
       "      <td>260656840</td>\n",
       "    </tr>\n",
       "    <tr>\n",
       "      <th>6</th>\n",
       "      <td>7</td>\n",
       "      <td>274776003</td>\n",
       "    </tr>\n",
       "    <tr>\n",
       "      <th>7</th>\n",
       "      <td>8</td>\n",
       "      <td>283943231</td>\n",
       "    </tr>\n",
       "    <tr>\n",
       "      <th>8</th>\n",
       "      <td>9</td>\n",
       "      <td>281146154</td>\n",
       "    </tr>\n",
       "    <tr>\n",
       "      <th>9</th>\n",
       "      <td>10</td>\n",
       "      <td>295965185</td>\n",
       "    </tr>\n",
       "    <tr>\n",
       "      <th>10</th>\n",
       "      <td>11</td>\n",
       "      <td>296085162</td>\n",
       "    </tr>\n",
       "    <tr>\n",
       "      <th>11</th>\n",
       "      <td>12</td>\n",
       "      <td>309948684</td>\n",
       "    </tr>\n",
       "  </tbody>\n",
       "</table>\n",
       "</div>"
      ],
      "text/plain": [
       "    Month  Receipt_Count\n",
       "0       1      236736687\n",
       "1       2      220033460\n",
       "2       3      248608625\n",
       "3       4      250644830\n",
       "4       5      263151748\n",
       "5       6      260656840\n",
       "6       7      274776003\n",
       "7       8      283943231\n",
       "8       9      281146154\n",
       "9      10      295965185\n",
       "10     11      296085162\n",
       "11     12      309948684"
      ]
     },
     "execution_count": 80,
     "metadata": {},
     "output_type": "execute_result"
    }
   ],
   "source": [
    "# Sum all receipts by each month. January has 236736687 scaned receipts and so on\n",
    "sum_month = df.groupby('Month')['Receipt_Count'].sum()\n",
    "sum_month_df = sum_month.to_frame().reset_index()\n",
    "sum_month_df"
   ]
  },
  {
   "cell_type": "code",
   "execution_count": 134,
   "metadata": {},
   "outputs": [
    {
     "data": {
      "text/html": [
       "<div>\n",
       "<style scoped>\n",
       "    .dataframe tbody tr th:only-of-type {\n",
       "        vertical-align: middle;\n",
       "    }\n",
       "\n",
       "    .dataframe tbody tr th {\n",
       "        vertical-align: top;\n",
       "    }\n",
       "\n",
       "    .dataframe thead th {\n",
       "        text-align: right;\n",
       "    }\n",
       "</style>\n",
       "<table border=\"1\" class=\"dataframe\">\n",
       "  <thead>\n",
       "    <tr style=\"text-align: right;\">\n",
       "      <th></th>\n",
       "      <th>Month</th>\n",
       "      <th>Receipt_Count</th>\n",
       "      <th>Normalized_receipts</th>\n",
       "      <th>Normalized_month</th>\n",
       "    </tr>\n",
       "  </thead>\n",
       "  <tbody>\n",
       "    <tr>\n",
       "      <th>0</th>\n",
       "      <td>1</td>\n",
       "      <td>236736687</td>\n",
       "      <td>0.185766</td>\n",
       "      <td>0.000000</td>\n",
       "    </tr>\n",
       "    <tr>\n",
       "      <th>1</th>\n",
       "      <td>2</td>\n",
       "      <td>220033460</td>\n",
       "      <td>0.000000</td>\n",
       "      <td>0.043478</td>\n",
       "    </tr>\n",
       "    <tr>\n",
       "      <th>2</th>\n",
       "      <td>3</td>\n",
       "      <td>248608625</td>\n",
       "      <td>0.317801</td>\n",
       "      <td>0.086957</td>\n",
       "    </tr>\n",
       "    <tr>\n",
       "      <th>3</th>\n",
       "      <td>4</td>\n",
       "      <td>250644830</td>\n",
       "      <td>0.340447</td>\n",
       "      <td>0.130435</td>\n",
       "    </tr>\n",
       "    <tr>\n",
       "      <th>4</th>\n",
       "      <td>5</td>\n",
       "      <td>263151748</td>\n",
       "      <td>0.479544</td>\n",
       "      <td>0.173913</td>\n",
       "    </tr>\n",
       "    <tr>\n",
       "      <th>5</th>\n",
       "      <td>6</td>\n",
       "      <td>260656840</td>\n",
       "      <td>0.451796</td>\n",
       "      <td>0.217391</td>\n",
       "    </tr>\n",
       "    <tr>\n",
       "      <th>6</th>\n",
       "      <td>7</td>\n",
       "      <td>274776003</td>\n",
       "      <td>0.608824</td>\n",
       "      <td>0.260870</td>\n",
       "    </tr>\n",
       "    <tr>\n",
       "      <th>7</th>\n",
       "      <td>8</td>\n",
       "      <td>283943231</td>\n",
       "      <td>0.710778</td>\n",
       "      <td>0.304348</td>\n",
       "    </tr>\n",
       "    <tr>\n",
       "      <th>8</th>\n",
       "      <td>9</td>\n",
       "      <td>281146154</td>\n",
       "      <td>0.679670</td>\n",
       "      <td>0.347826</td>\n",
       "    </tr>\n",
       "    <tr>\n",
       "      <th>9</th>\n",
       "      <td>10</td>\n",
       "      <td>295965185</td>\n",
       "      <td>0.844481</td>\n",
       "      <td>0.391304</td>\n",
       "    </tr>\n",
       "    <tr>\n",
       "      <th>10</th>\n",
       "      <td>11</td>\n",
       "      <td>296085162</td>\n",
       "      <td>0.845816</td>\n",
       "      <td>0.434783</td>\n",
       "    </tr>\n",
       "    <tr>\n",
       "      <th>11</th>\n",
       "      <td>12</td>\n",
       "      <td>309948684</td>\n",
       "      <td>1.000000</td>\n",
       "      <td>0.478261</td>\n",
       "    </tr>\n",
       "  </tbody>\n",
       "</table>\n",
       "</div>"
      ],
      "text/plain": [
       "    Month  Receipt_Count  Normalized_receipts  Normalized_month\n",
       "0       1      236736687             0.185766          0.000000\n",
       "1       2      220033460             0.000000          0.043478\n",
       "2       3      248608625             0.317801          0.086957\n",
       "3       4      250644830             0.340447          0.130435\n",
       "4       5      263151748             0.479544          0.173913\n",
       "5       6      260656840             0.451796          0.217391\n",
       "6       7      274776003             0.608824          0.260870\n",
       "7       8      283943231             0.710778          0.304348\n",
       "8       9      281146154             0.679670          0.347826\n",
       "9      10      295965185             0.844481          0.391304\n",
       "10     11      296085162             0.845816          0.434783\n",
       "11     12      309948684             1.000000          0.478261"
      ]
     },
     "execution_count": 134,
     "metadata": {},
     "output_type": "execute_result"
    }
   ],
   "source": [
    "'''\n",
    "    Normalize both colums so that they are on the same scale as neural Neeorks depend on gradients for optimization. Gradients tend to be sensitive to features with different scales.\n",
    "    Using Min-Max scaling to normalize the values for both columns between 0 and 1\n",
    "    Min-Max Scaling from scratch\n",
    "    Formula: (X - X_min) / (X_max - X_min)\n",
    "    Month_max is 24 because to predict values for the next 12 months, need to normalize the months to consider the 12 months in 2022\n",
    "'''\n",
    "Month_min = 1\n",
    "Month_max = 24\n",
    "Receipt_min = sum_month_df['Receipt_Count'].min()   # Get the min value of receipts\n",
    "Receipt_max = sum_month_df['Receipt_Count'].max()   # Get the max value of receipts\n",
    "sum_month_df['Normalized_receipts'] = (sum_month_df['Receipt_Count'] - Receipt_min) / (Receipt_max - Receipt_min)\n",
    "sum_month_df['Normalized_month'] = (sum_month_df['Month'] - Month_min) / (Month_max - Month_min)\n",
    "sum_month_df"
   ]
  },
  {
   "cell_type": "code",
   "execution_count": 135,
   "metadata": {},
   "outputs": [
    {
     "data": {
      "text/plain": [
       "Text(0, 0.5, 'Normalized Recepit Count')"
      ]
     },
     "execution_count": 135,
     "metadata": {},
     "output_type": "execute_result"
    },
    {
     "data": {
      "image/png": "[encoded data removed]",
      "text/plain": [
       "<Figure size 500x500 with 1 Axes>"
      ]
     },
     "metadata": {},
     "output_type": "display_data"
    },
    {
     "data": {
      "image/png": "[encoded data removed]",
      "text/plain": [
       "<Figure size 500x500 with 1 Axes>"
      ]
     },
     "metadata": {},
     "output_type": "display_data"
    }
   ],
   "source": [
    "# These two plots show is that the Normalized and the \"Un-Normalized\" features have the same trend\n",
    "plt.figure(figsize=(5, 5))\n",
    "plt.scatter(x=sum_month_df['Month'], y=sum_month_df['Receipt_Count'])\n",
    "plt.title('Month-Receipts')\n",
    "plt.xlabel('Month')\n",
    "plt.ylabel(\"Recepit Count\")\n",
    "\n",
    "plt.figure(figsize=(5, 5))\n",
    "plt.scatter(x=sum_month_df['Normalized_month'], y=sum_month_df['Normalized_receipts'])\n",
    "plt.title('Normalized Month-Receipts')\n",
    "plt.xlabel('Normalized Month')\n",
    "plt.ylabel(\"Normalized Recepit Count\")"
   ]
  },
  {
   "cell_type": "code",
   "execution_count": 116,
   "metadata": {},
   "outputs": [],
   "source": [
    "# Split data into X and y\n",
    "X = sum_month_df[['Normalized_month']].values\n",
    "y = sum_month_df[['Normalized_receipts']].values"
   ]
  },
  {
   "cell_type": "code",
   "execution_count": 139,
   "metadata": {},
   "outputs": [],
   "source": [
    "# Split data ratio: 9 rows for training and 2 rows for testing\n",
    "X_train = X[: int(0.75 * len(X))]\n",
    "y_train = y[: int(0.75 * len(y))]\n",
    "X_test = X[int(0.75 * len(X)): ]\n",
    "y_test = y[int(0.75 * len(y)): ]"
   ]
  },
  {
   "cell_type": "code",
   "execution_count": 141,
   "metadata": {},
   "outputs": [
    {
     "data": {
      "text/plain": [
       "(torch.Size([9, 1]),\n",
       " torch.Size([9, 1]),\n",
       " torch.Size([3, 1]),\n",
       " torch.Size([3, 1]))"
      ]
     },
     "execution_count": 141,
     "metadata": {},
     "output_type": "execute_result"
    }
   ],
   "source": [
    "# Convert data into tensors so the model can process them\n",
    "X_train_tensor = torch.FloatTensor(X_train)\n",
    "y_train_tensor = torch.FloatTensor(y_train)\n",
    "X_test_tensor = torch.FloatTensor(X_test)\n",
    "y_test_tensor = torch.FloatTensor(y_test)\n",
    "X_train_tensor.shape, y_train_tensor.shape, X_test_tensor.shape, y_test_tensor.shape"
   ]
  },
  {
   "cell_type": "code",
   "execution_count": 88,
   "metadata": {},
   "outputs": [],
   "source": [
    "'''\n",
    "    Define model architecture\n",
    "    model has 2 layers\n",
    "        1st layer takes in 1 value for input and outputs 8 values\n",
    "        2nd layer takes in 8 values for input and outputs 1 value (the prediction)\n",
    "        using the ReLu() activation function\n",
    "'''\n",
    "class NN(nn.Module):\n",
    "    def __init__(self):\n",
    "        super(NN, self).__init__()\n",
    "        self.layer1 = nn.Linear(in_features=1, out_features=8)\n",
    "        self.layer2 = nn.Linear(in_features=8, out_features=1)\n",
    "        \n",
    "    def forward(self, x):\n",
    "        x = F.relu(self.layer1(x))\n",
    "        x = self.layer2(x)\n",
    "        return x"
   ]
  },
  {
   "cell_type": "code",
   "execution_count": 105,
   "metadata": {},
   "outputs": [],
   "source": [
    "torch.manual_seed(42)\n",
    "model = NN() # Initialize model\n",
    "loss = nn.MSELoss() # Mean Squared Error for the loss function\n",
    "optimizer = torch.optim.Adam(model.parameters(), lr=0.01) # Adam optimizer and learning rate of 0.01"
   ]
  },
  {
   "cell_type": "code",
   "execution_count": 106,
   "metadata": {},
   "outputs": [
    {
     "name": "stdout",
     "output_type": "stream",
     "text": [
      "Epoch: 0 Loss: 0.5242113471031189\n",
      "Epoch: 20 Loss: 0.03778054937720299\n",
      "Epoch: 40 Loss: 0.017658157274127007\n",
      "Epoch: 60 Loss: 0.012577683664858341\n",
      "Epoch: 80 Loss: 0.009282935410737991\n",
      "Epoch: 100 Loss: 0.007129042409360409\n",
      "Epoch: 120 Loss: 0.0060393731109797955\n",
      "Epoch: 140 Loss: 0.005691321101039648\n"
     ]
    }
   ],
   "source": [
    "# Model Training\n",
    "epochs = 150 # Train for 15 epochs\n",
    "losses = []\n",
    "for i in range(epochs):\n",
    "    y_pred = model.forward(X_train_tensor)\n",
    "    loss_vals = loss(y_pred, y_train_tensor)\n",
    "    losses.append(loss_vals.item())\n",
    "    if i % 20 == 0:\n",
    "        print(f'Epoch: {i} Loss: {loss_vals}')\n",
    "        \n",
    "    optimizer.zero_grad()\n",
    "    loss_vals.backward()\n",
    "    optimizer.step()\n",
    "            "
   ]
  },
  {
   "cell_type": "code",
   "execution_count": 151,
   "metadata": {},
   "outputs": [
    {
     "data": {
      "text/plain": [
       "Text(0, 0.5, 'Loss')"
      ]
     },
     "execution_count": 151,
     "metadata": {},
     "output_type": "execute_result"
    },
    {
     "data": {
      "image/png": "[encoded data removed]",
      "text/plain": [
       "<Figure size 640x480 with 1 Axes>"
      ]
     },
     "metadata": {},
     "output_type": "display_data"
    }
   ],
   "source": [
    "plt.plot(range(epochs), losses)\n",
    "plt.title('Loss over time')\n",
    "plt.xlabel('Epochs')\n",
    "plt.ylabel('Loss')"
   ]
  },
  {
   "cell_type": "code",
   "execution_count": 147,
   "metadata": {},
   "outputs": [
    {
     "name": "stdout",
     "output_type": "stream",
     "text": [
      "Overall test loss: 0.0013517257757484913\n"
     ]
    }
   ],
   "source": [
    "# Testing\n",
    "with torch.no_grad():\n",
    "    y_pred = model.forward(X_test_tensor)\n",
    "    loss_val = loss(y_pred, y_test_tensor)\n",
    "    print(f'Overall test loss: {loss_val}')"
   ]
  },
  {
   "cell_type": "code",
   "execution_count": 110,
   "metadata": {},
   "outputs": [],
   "source": [
    "# Save models weights to run inference elsewhere\n",
    "torch.save(model.state_dict(), 'NN_test.pth')"
   ]
  }
 ],
 "metadata": {
  "kernelspec": {
   "display_name": "drone",
   "language": "python",
   "name": "python3"
  },
  "language_info": {
   "codemirror_mode": {
    "name": "ipython",
    "version": 3
   },
   "file_extension": ".py",
   "mimetype": "text/x-python",
   "name": "python",
   "nbconvert_exporter": "python",
   "pygments_lexer": "ipython3",
   "version": "3.9.19"
  }
 },
 "nbformat": 4,
 "nbformat_minor": 2
}
